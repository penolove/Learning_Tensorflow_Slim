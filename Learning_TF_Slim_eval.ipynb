{
 "cells": [
  {
   "cell_type": "code",
   "execution_count": 1,
   "metadata": {
    "collapsed": true
   },
   "outputs": [],
   "source": [
    "import numpy as np\n",
    "import tensorflow as tf\n",
    "import tensorflow.contrib.slim as slim"
   ]
  },
  {
   "cell_type": "code",
   "execution_count": 2,
   "metadata": {
    "collapsed": true
   },
   "outputs": [],
   "source": [
    "def Create_Slim_DateSet(dataset_dir,num_samples):\n",
    "    _ITEMS_TO_DESCRIPTIONS = {\n",
    "        'image': 'A [32 x 32 x 3]  image.',\n",
    "        'label': 'A single integer between 0 and 8',\n",
    "    }\n",
    "    reader = tf.TFRecordReader\n",
    "    # extrct key\n",
    "    keys_to_features = {\n",
    "      'image/encoded': tf.FixedLenFeature((), tf.string, default_value=''),\n",
    "      'image/format': tf.FixedLenFeature((), tf.string, default_value='png'),\n",
    "      'image/class/label': tf.FixedLenFeature(\n",
    "          [], tf.int64, default_value=tf.zeros([], dtype=tf.int64)),\n",
    "    }\n",
    "    # decoder\n",
    "    items_to_handlers = {\n",
    "     'image': slim.tfexample_decoder.Image(shape=[32, 32, 3]),\n",
    "     'label': slim.tfexample_decoder.Tensor('image/class/label', shape=[]),\n",
    "    }\n",
    "    decoder = slim.tfexample_decoder.TFExampleDecoder(\n",
    "         keys_to_features, items_to_handlers)\n",
    "\n",
    "    labels_to_names = None\n",
    "\n",
    "    dataset_out = slim.dataset.Dataset(\n",
    "         data_sources = dataset_dir,\n",
    "         reader = reader,\n",
    "         decoder = decoder,\n",
    "         num_samples = num_samples,\n",
    "         num_classes = 5,\n",
    "         items_to_descriptions=_ITEMS_TO_DESCRIPTIONS,\n",
    "         labels_to_names=labels_to_names)\n",
    "    return dataset_out"
   ]
  },
  {
   "cell_type": "code",
   "execution_count": 3,
   "metadata": {
    "collapsed": true
   },
   "outputs": [],
   "source": [
    "def load_batch(dataset, batch_size=32):\n",
    "    data_provider = slim.dataset_data_provider.DatasetDataProvider(\n",
    "        dataset, common_queue_capacity=32,\n",
    "        common_queue_min=8)    \n",
    "    image_raw, label = data_provider.get(['image', 'label'])\n",
    "    images_raw, labels = tf.train.shuffle_batch(\n",
    "        [image_raw, label], batch_size=batch_size, num_threads=4,\n",
    "        capacity=1000 + 3 * batch_size,\n",
    "        min_after_dequeue=1000)\n",
    "    \n",
    "    return images_raw, labels"
   ]
  },
  {
   "cell_type": "code",
   "execution_count": 4,
   "metadata": {
    "collapsed": true
   },
   "outputs": [],
   "source": [
    "import tensorflow as tf\n",
    "import tensorflow.contrib.slim.nets \n",
    "vgg = tf.contrib.slim.nets.vgg"
   ]
  },
  {
   "cell_type": "code",
   "execution_count": null,
   "metadata": {
    "collapsed": false
   },
   "outputs": [
    {
     "name": "stdout",
     "output_type": "stream",
     "text": [
      "INFO:tensorflow:Waiting for new checkpoint at /tmp/loser_trail/\n",
      "INFO:tensorflow:Found new checkpoint at /tmp/loser_trail/model.ckpt-9000\n",
      "INFO:tensorflow:Restoring parameters from /tmp/loser_trail/model.ckpt-9000\n",
      "INFO:tensorflow:Starting evaluation at 2017-06-14-03:06:03\n",
      "INFO:tensorflow:Evaluation [1/50]\n",
      "INFO:tensorflow:Evaluation [2/50]\n",
      "INFO:tensorflow:Evaluation [3/50]\n",
      "INFO:tensorflow:Evaluation [4/50]\n",
      "INFO:tensorflow:Evaluation [5/50]\n",
      "INFO:tensorflow:Evaluation [6/50]\n",
      "INFO:tensorflow:Evaluation [7/50]\n",
      "INFO:tensorflow:Evaluation [8/50]\n",
      "INFO:tensorflow:Evaluation [9/50]\n",
      "INFO:tensorflow:Evaluation [10/50]\n",
      "INFO:tensorflow:Evaluation [11/50]\n",
      "INFO:tensorflow:Evaluation [12/50]\n",
      "INFO:tensorflow:Evaluation [13/50]\n",
      "INFO:tensorflow:Evaluation [14/50]\n",
      "INFO:tensorflow:Evaluation [15/50]\n",
      "INFO:tensorflow:Evaluation [16/50]\n",
      "INFO:tensorflow:Evaluation [17/50]\n",
      "INFO:tensorflow:Evaluation [18/50]\n",
      "INFO:tensorflow:Evaluation [19/50]\n",
      "INFO:tensorflow:Evaluation [20/50]\n",
      "INFO:tensorflow:Evaluation [21/50]\n",
      "INFO:tensorflow:Evaluation [22/50]\n",
      "INFO:tensorflow:Evaluation [23/50]\n",
      "INFO:tensorflow:Evaluation [24/50]\n",
      "INFO:tensorflow:Evaluation [25/50]\n",
      "INFO:tensorflow:Evaluation [26/50]\n",
      "INFO:tensorflow:Evaluation [27/50]\n",
      "INFO:tensorflow:Evaluation [28/50]\n",
      "INFO:tensorflow:Evaluation [29/50]\n",
      "INFO:tensorflow:Evaluation [30/50]\n",
      "INFO:tensorflow:Evaluation [31/50]\n",
      "INFO:tensorflow:Evaluation [32/50]\n",
      "INFO:tensorflow:Evaluation [33/50]\n",
      "INFO:tensorflow:Evaluation [34/50]\n",
      "INFO:tensorflow:Evaluation [35/50]\n",
      "INFO:tensorflow:Evaluation [36/50]\n",
      "INFO:tensorflow:Evaluation [37/50]\n",
      "INFO:tensorflow:Evaluation [38/50]\n",
      "INFO:tensorflow:Evaluation [39/50]\n",
      "INFO:tensorflow:Evaluation [40/50]\n",
      "INFO:tensorflow:Evaluation [41/50]\n",
      "INFO:tensorflow:Evaluation [42/50]\n",
      "INFO:tensorflow:Evaluation [43/50]\n",
      "INFO:tensorflow:Evaluation [44/50]\n",
      "INFO:tensorflow:Evaluation [45/50]\n",
      "INFO:tensorflow:Evaluation [46/50]\n",
      "INFO:tensorflow:Evaluation [47/50]\n",
      "INFO:tensorflow:Evaluation [48/50]\n",
      "INFO:tensorflow:Evaluation [49/50]\n",
      "INFO:tensorflow:Evaluation [50/50]\n",
      "INFO:tensorflow:Finished evaluation at 2017-06-14-03:09:48\n",
      "INFO:tensorflow:Waiting for new checkpoint at /tmp/loser_trail/\n"
     ]
    }
   ],
   "source": [
    "tf.reset_default_graph()\n",
    "train_dir = '/tmp/loser_trail/'\n",
    "dataset_dir = 'whimh2_vali_png.tfrecords'\n",
    "num_samples = 1560 \n",
    "\n",
    "with tf.device('/cpu:0'):\n",
    "    #load data from dataset\n",
    "    whimh2_train_png =Create_Slim_DateSet(dataset_dir,num_samples)\n",
    "    images,labels = load_batch(whimh2_train_png, batch_size=16)\n",
    "    image_large=tf.image.resize_images(images,[224,224])\n",
    "\n",
    "    #concate vgg\n",
    "    with slim.arg_scope(vgg.vgg_arg_scope()):\n",
    "        predictions, _ =vgg.vgg_16(image_large,5)\n",
    "\n",
    "    predictions = tf.argmax(predictions, 1)\n",
    "    labels = tf.squeeze(labels)\n",
    "\n",
    "#     summary_ops = []\n",
    "#     accuracy = tf.contrib.metrics.accuracy(labels, predictions, name='preds0')\n",
    "#     op = tf.summary.scalar('accuray', accuracy)\n",
    "#     summary_ops.append(op)\n",
    "    \n",
    "    #Choose the metrics to compute:\n",
    "    names_to_values, names_to_updates = slim.metrics.aggregate_metric_map({\n",
    "        'accuracy': slim.metrics.streaming_accuracy(predictions, labels),\n",
    "    })\n",
    "    summary_ops=[]\n",
    "    #Create the summary ops such that they also print out to std output:\n",
    "    for metric_name, metric_value in names_to_values.iteritems():\n",
    "        op = tf.summary.scalar(metric_name, metric_value)\n",
    "        op = tf.Print(op, [metric_value], metric_name)\n",
    "        summary_ops.append(op)\n",
    "\n",
    "    num_examples = 10000\n",
    "    batch_size = 32\n",
    "\n",
    "    # Setup the global step.\n",
    "    slim.get_or_create_global_step()\n",
    "\n",
    "    output_dir = '/tmp/loser_trail/' # Where the summaries are stored.\n",
    "    eval_interval_secs = 150 # How often to run the evaluation.\n",
    "\n",
    "    slim.evaluation.evaluation_loop(\n",
    "        '',\n",
    "        '/tmp/loser_trail/',\n",
    "        '/tmp/loser_trail/',\n",
    "        num_evals=50,\n",
    "        eval_op=names_to_updates.values(),\n",
    "        summary_op=tf.summary.merge(summary_ops),\n",
    "        eval_interval_secs=eval_interval_secs)\n",
    "\n",
    "\n",
    "    #session_configuration "
   ]
  },
  {
   "cell_type": "code",
   "execution_count": 6,
   "metadata": {
    "collapsed": false
   },
   "outputs": [
    {
     "name": "stdout",
     "output_type": "stream",
     "text": [
      "Tensor(\"Squeeze:0\", shape=(16,), dtype=int64, device=/device:CPU:0)\n",
      "Tensor(\"ArgMax:0\", shape=(16,), dtype=int64, device=/device:CPU:0)\n"
     ]
    }
   ],
   "source": [
    "print labels\n",
    "print predictions"
   ]
  }
 ],
 "metadata": {
  "kernelspec": {
   "display_name": "Python 2",
   "language": "python",
   "name": "python2"
  },
  "language_info": {
   "codemirror_mode": {
    "name": "ipython",
    "version": 2
   },
   "file_extension": ".py",
   "mimetype": "text/x-python",
   "name": "python",
   "nbconvert_exporter": "python",
   "pygments_lexer": "ipython2",
   "version": "2.7.13"
  }
 },
 "nbformat": 4,
 "nbformat_minor": 2
}
